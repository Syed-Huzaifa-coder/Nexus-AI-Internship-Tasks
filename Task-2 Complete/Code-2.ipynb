{
 "cells": [
  {
   "cell_type": "markdown",
   "metadata": {},
   "source": [
    "# Task 2: Interactive Dashboard for Retail EDA\n",
    "# Author: Syed Huzaifa Bin Khamis | Nexus AI Digital Internship\n",
    "\n",
    "# 1. Import Libraries"
   ]
  },
  {
   "cell_type": "code",
   "execution_count": 1,
   "metadata": {},
   "outputs": [],
   "source": [
    "import pandas as pd\n",
    "import plotly.express as px\n",
    "from dash import Dash, dcc, html, Input, Output"
   ]
  },
  {
   "cell_type": "markdown",
   "metadata": {},
   "source": [
    "# 2. Cleaning dataset"
   ]
  },
  {
   "cell_type": "code",
   "execution_count": 2,
   "metadata": {},
   "outputs": [],
   "source": [
    "# Load raw dataset\n",
    "df = pd.read_csv(\"OnlineRetail.csv\", encoding=\"unicode_escape\")\n",
    "\n",
    "# Clean like in Task 1\n",
    "df = df.dropna(subset=['CustomerID'])\n",
    "df = df.drop_duplicates()\n",
    "df['InvoiceDate'] = pd.to_datetime(df['InvoiceDate'])\n",
    "df['CustomerID'] = df['CustomerID'].astype(int)\n",
    "\n",
    "# Add Total Sales column\n",
    "df['TotalSales'] = df['Quantity'] * df['UnitPrice']\n",
    "\n",
    "# Save for reuse (optional)\n",
    "df.to_csv(\"OnlineRetail_Clean.csv\", index=False)\n"
   ]
  },
  {
   "cell_type": "markdown",
   "metadata": {},
   "source": [
    "# 3. Load cleaned dataset"
   ]
  },
  {
   "cell_type": "code",
   "execution_count": 3,
   "metadata": {},
   "outputs": [],
   "source": [
    "df = pd.read_csv(\"OnlineRetail_Clean.csv\")\n",
    "df['InvoiceDate'] = pd.to_datetime(df['InvoiceDate'])\n",
    "df['TotalSales'] = df['Quantity'] * df['UnitPrice']"
   ]
  },
  {
   "cell_type": "markdown",
   "metadata": {},
   "source": [
    "# 4. Extract month-year for trend analysis"
   ]
  },
  {
   "cell_type": "code",
   "execution_count": 4,
   "metadata": {},
   "outputs": [],
   "source": [
    "df['YearMonth'] = df['InvoiceDate'].dt.to_period(\"M\").astype(str)"
   ]
  },
  {
   "cell_type": "markdown",
   "metadata": {},
   "source": [
    "# 5. Create Dash App"
   ]
  },
  {
   "cell_type": "code",
   "execution_count": 5,
   "metadata": {},
   "outputs": [],
   "source": [
    "app = Dash(__name__)\n",
    "app.title = \"Retail Sales Dashboard\""
   ]
  },
  {
   "cell_type": "markdown",
   "metadata": {},
   "source": [
    "# 6. Dropdown options for country"
   ]
  },
  {
   "cell_type": "code",
   "execution_count": 6,
   "metadata": {},
   "outputs": [],
   "source": [
    "country_options = [{'label': c, 'value': c} for c in df['Country'].unique()]"
   ]
  },
  {
   "cell_type": "markdown",
   "metadata": {},
   "source": [
    "# 7. App Layout"
   ]
  },
  {
   "cell_type": "code",
   "execution_count": 7,
   "metadata": {},
   "outputs": [],
   "source": [
    "app.layout = html.Div([\n",
    "    html.H1(\"Retail Sales Dashboard\", style={'textAlign': 'center'}),\n",
    "\n",
    "    # Dropdown filter\n",
    "    html.Div([\n",
    "        html.Label(\"Filter by Country:\"),\n",
    "        dcc.Dropdown(\n",
    "            id='country_filter',\n",
    "            options=[{'label': 'All', 'value': 'All'}] + country_options,\n",
    "            value='All',\n",
    "            clearable=False\n",
    "        )\n",
    "    ], style={'width': '40%', 'margin': 'auto'}),\n",
    "\n",
    "    html.Br(),\n",
    "\n",
    "    # Row 1: Sales Trend + Top Products\n",
    "    html.Div([\n",
    "        dcc.Graph(id='sales_trend'),\n",
    "        dcc.Graph(id='top_products')\n",
    "    ], style={'display': 'flex', 'flexWrap': 'wrap'}),\n",
    "\n",
    "    # Row 2: Country Sales + Basket Size Distribution\n",
    "    html.Div([\n",
    "        dcc.Graph(id='country_sales'),\n",
    "        dcc.Graph(id='basket_distribution')\n",
    "    ], style={'display': 'flex', 'flexWrap': 'wrap'})\n",
    "])\n"
   ]
  },
  {
   "cell_type": "markdown",
   "metadata": {},
   "source": [
    "# 8. Callbacks"
   ]
  },
  {
   "cell_type": "code",
   "execution_count": 8,
   "metadata": {},
   "outputs": [],
   "source": [
    "@app.callback(\n",
    "    [Output('sales_trend', 'figure'),\n",
    "     Output('top_products', 'figure'),\n",
    "     Output('country_sales', 'figure'),\n",
    "     Output('basket_distribution', 'figure')],\n",
    "    [Input('country_filter', 'value')]\n",
    ")\n",
    "def update_dashboard(selected_country):\n",
    "    # Filter by country\n",
    "    if selected_country == 'All':\n",
    "        dff = df.copy()\n",
    "    else:\n",
    "        dff = df[df['Country'] == selected_country]\n",
    "\n",
    "    # Sales Trend\n",
    "    monthly_sales = dff.groupby('YearMonth')['TotalSales'].sum().reset_index()\n",
    "    fig_trend = px.line(monthly_sales, x='YearMonth', y='TotalSales',\n",
    "                        title=\"Monthly Sales Trend\", markers=True)\n",
    "\n",
    "    # Top Products\n",
    "    top_products = dff.groupby('Description')['TotalSales'].sum().nlargest(10).reset_index()\n",
    "    fig_products = px.bar(top_products, x='TotalSales', y='Description',\n",
    "                          orientation='h', title=\"Top 10 Products by Sales\")\n",
    "\n",
    "    # Country Sales\n",
    "    country_sales = dff.groupby('Country')['TotalSales'].sum().nlargest(10).reset_index()\n",
    "    fig_country = px.bar(country_sales, x='TotalSales', y='Country',\n",
    "                         orientation='h', title=\"Top Countries by Sales\")\n",
    "\n",
    "    # Basket Size Distribution\n",
    "    basket_size = dff.groupby('CustomerID')['TotalSales'].sum().reset_index()\n",
    "    fig_basket = px.histogram(basket_size, x='TotalSales', nbins=50,\n",
    "                              title=\"Customer Spend Distribution\")\n",
    "\n",
    "    return fig_trend, fig_products, fig_country, fig_basket"
   ]
  },
  {
   "cell_type": "markdown",
   "metadata": {},
   "source": [
    "# 9. Run Server"
   ]
  },
  {
   "cell_type": "code",
   "execution_count": 9,
   "metadata": {},
   "outputs": [
    {
     "data": {
      "text/html": [
       "\n",
       "        <iframe\n",
       "            width=\"100%\"\n",
       "            height=\"650\"\n",
       "            src=\"http://127.0.0.1:8050/\"\n",
       "            frameborder=\"0\"\n",
       "            allowfullscreen\n",
       "            \n",
       "        ></iframe>\n",
       "        "
      ],
      "text/plain": [
       "<IPython.lib.display.IFrame at 0x203e2e9c380>"
      ]
     },
     "metadata": {},
     "output_type": "display_data"
    }
   ],
   "source": [
    "if __name__ == '__main__':\n",
    "    app.run(debug=True)"
   ]
  }
 ],
 "metadata": {
  "kernelspec": {
   "display_name": "Python 3",
   "language": "python",
   "name": "python3"
  },
  "language_info": {
   "codemirror_mode": {
    "name": "ipython",
    "version": 3
   },
   "file_extension": ".py",
   "mimetype": "text/x-python",
   "name": "python",
   "nbconvert_exporter": "python",
   "pygments_lexer": "ipython3",
   "version": "3.12.6"
  }
 },
 "nbformat": 4,
 "nbformat_minor": 2
}
